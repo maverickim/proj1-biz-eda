import pandas as pd

# 데이터 로드
file_path = r'C:\python\29cm_list_add_rank (1).csv'
data = pd.read_csv(file_path, encoding='utf-8-sig')

# 데이터 구조 확인
print(data.info())

# 데이터의 첫 5개 행 확인
print(data.head())

# 전체 기술 통계 확인 (수치형, 범주형 변수 포함)
print(data.describe(include='all'))

# 결측치 확인
print(data.isnull().sum())

import matplotlib.pyplot as plt

# 수치형 변수 리스트
numeric_columns = ['original_price', 'sale', 'sale_price', 'heart_count', 'review_count']

# 각 수치형 변수에 대한 히스토그램 그리기
data[numeric_columns].hist(bins=20, figsize=(15, 10))
plt.suptitle("Distribution of Numeric Variables", y=1.02)
plt.show()

import matplotlib.pyplot as plt
import matplotlib.font_manager as fm

# 한글 폰트 설정 (Windows의 경우)
plt.rcParams['font.family'] = 'Malgun Gothic'  # 'Malgun Gothic'은 Windows 기본 한글 폰트
plt.rcParams['axes.unicode_minus'] = False  # 마이너스(-) 기호 깨짐 방지

# 브랜드별 상품 수 상위 10개
top_10_brands_count = data['brand'].value_counts().head(10)

# 상위 10개 브랜드 분포 시각화
plt.figure(figsize=(12, 6))
top_10_brands_count.plot(kind='bar')
plt.title('Top 10 Brands by Number of Products')
plt.ylabel('Number of Products')
plt.xticks(rotation=45)
plt.show()

import seaborn as sns

# 상관관계 계산
correlation_matrix = data[numeric_columns].corr()

# 상관관계 히트맵 시각화
plt.figure(figsize=(10, 8))
sns.heatmap(correlation_matrix, annot=True, cmap='coolwarm', vmin=-1, vmax=1, linewidths=0.5)
plt.title("Correlation Heatmap of Numeric Variables")
plt.show()

import matplotlib.pyplot as plt
import seaborn as sns

# rank와 다른 수치형 변수 간의 상관관계 계산
numeric_columns = ['rank', 'original_price', 'sale', 'sale_price', 'heart_count', 'review_count']
correlation_matrix_rank = data[numeric_columns].corr()

# rank와 나머지 변수 간 상관관계 출력
print("Correlation with rank (interpreted inversely):\n", correlation_matrix_rank['rank'])

# 상관관계 히트맵 시각화
plt.figure(figsize=(8, 6))
sns.heatmap(correlation_matrix_rank, annot=True, cmap='coolwarm', vmin=-1, vmax=1, linewidths=0.5)
plt.title("Correlation Heatmap Including Rank (Interpreted Inversely)")
plt.show()

# 원래 가격과 할인 후 가격 차이 계산
data['price_diff'] = data['original_price'] - data['sale_price']

# 평균 가격 차이 출력
print("Average price difference:", data['price_diff'].mean())

# 할인율이 50% 이상인 제품 수 확인
high_discount_count = data[data['sale'] >= 50].shape[0]
print("Number of products with 50% or more discount:", high_discount_count)

# 좋아요 수가 많은 상위 5개 제품 출력
top_5_hearts = data.sort_values(by='heart_count', ascending=False).head(5)
print("Top 5 products by heart count:\n", top_5_hearts[['name', 'brand', 'heart_count']])

